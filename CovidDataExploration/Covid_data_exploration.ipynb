{
 "cells": [
  {
   "cell_type": "markdown",
   "id": "00a9dc1d",
   "metadata": {},
   "source": [
    "Notebook with SQL queries from covid data exploration project, with added visualizations, using sql magic, pandas, seaborn and matloplib"
   ]
  },
  {
   "cell_type": "code",
   "execution_count": 1,
   "id": "8fa9df4f",
   "metadata": {},
   "outputs": [],
   "source": [
    "%load_ext sql"
   ]
  },
  {
   "cell_type": "code",
   "execution_count": 4,
   "id": "8a05f777",
   "metadata": {},
   "outputs": [],
   "source": [
    "%sql ibm_db_sa://mks67860:ddolLaLqQcCbKxuA@h764264db-9824-4b7c-82df-40d1b13897c2.bs2io90l08kqb1od8lcg.databases.appdomain.cloud:32536/BLUDB?security=SSL"
   ]
  },
  {
   "cell_type": "code",
   "execution_count": 7,
   "id": "cf38af29",
   "metadata": {},
   "outputs": [],
   "source": [
    "#sql select TABSCHEMA, TABNAME, CREATE_TIME from SYSCAT.TABLES where TABSCHEMA='MKS67860'"
   ]
  },
  {
   "cell_type": "code",
   "execution_count": 8,
   "id": "40b9f6e0",
   "metadata": {},
   "outputs": [],
   "source": [
    "import pandas as pd"
   ]
  },
  {
   "cell_type": "markdown",
   "id": "adef547f",
   "metadata": {},
   "source": [
    "Total cases vs total deaths in a specific country."
   ]
  },
  {
   "cell_type": "code",
   "execution_count": 9,
   "id": "7522a39f",
   "metadata": {},
   "outputs": [
    {
     "name": "stdout",
     "output_type": "stream",
     "text": [
      " * ibm_db_sa://mks67860:***@h764264db-9824-4b7c-82df-40d1b13897c2.bs2io90l08kqb1od8lcg.databases.appdomain.cloud:32536/BLUDB\n",
      "Done.\n"
     ]
    },
    {
     "data": {
      "text/html": [
       "<div>\n",
       "<style scoped>\n",
       "    .dataframe tbody tr th:only-of-type {\n",
       "        vertical-align: middle;\n",
       "    }\n",
       "\n",
       "    .dataframe tbody tr th {\n",
       "        vertical-align: top;\n",
       "    }\n",
       "\n",
       "    .dataframe thead th {\n",
       "        text-align: right;\n",
       "    }\n",
       "</style>\n",
       "<table border=\"1\" class=\"dataframe\">\n",
       "  <thead>\n",
       "    <tr style=\"text-align: right;\">\n",
       "      <th></th>\n",
       "      <th>location</th>\n",
       "      <th>DATE</th>\n",
       "      <th>total_cases</th>\n",
       "      <th>total_deaths</th>\n",
       "      <th>deathpercentage</th>\n",
       "    </tr>\n",
       "  </thead>\n",
       "  <tbody>\n",
       "    <tr>\n",
       "      <th>0</th>\n",
       "      <td>Albania</td>\n",
       "      <td>2020-02-25</td>\n",
       "      <td>NaN</td>\n",
       "      <td>NaN</td>\n",
       "      <td>None</td>\n",
       "    </tr>\n",
       "    <tr>\n",
       "      <th>1</th>\n",
       "      <td>Albania</td>\n",
       "      <td>2020-02-26</td>\n",
       "      <td>NaN</td>\n",
       "      <td>NaN</td>\n",
       "      <td>None</td>\n",
       "    </tr>\n",
       "    <tr>\n",
       "      <th>2</th>\n",
       "      <td>Albania</td>\n",
       "      <td>2020-02-27</td>\n",
       "      <td>NaN</td>\n",
       "      <td>NaN</td>\n",
       "      <td>None</td>\n",
       "    </tr>\n",
       "    <tr>\n",
       "      <th>3</th>\n",
       "      <td>Albania</td>\n",
       "      <td>2020-02-28</td>\n",
       "      <td>NaN</td>\n",
       "      <td>NaN</td>\n",
       "      <td>None</td>\n",
       "    </tr>\n",
       "    <tr>\n",
       "      <th>4</th>\n",
       "      <td>Albania</td>\n",
       "      <td>2020-02-29</td>\n",
       "      <td>NaN</td>\n",
       "      <td>NaN</td>\n",
       "      <td>None</td>\n",
       "    </tr>\n",
       "  </tbody>\n",
       "</table>\n",
       "</div>"
      ],
      "text/plain": [
       "  location        DATE  total_cases  total_deaths deathpercentage\n",
       "0  Albania  2020-02-25          NaN           NaN            None\n",
       "1  Albania  2020-02-26          NaN           NaN            None\n",
       "2  Albania  2020-02-27          NaN           NaN            None\n",
       "3  Albania  2020-02-28          NaN           NaN            None\n",
       "4  Albania  2020-02-29          NaN           NaN            None"
      ]
     },
     "execution_count": 9,
     "metadata": {},
     "output_type": "execute_result"
    }
   ],
   "source": [
    "total_cases_vs_deaths = %sql Select Location, date, total_cases, total_deaths, (total_deaths * 1.0 / total_cases * 1.0)*100 as DeathPercentage From COVIDDEATHS where location like 'Albania' order by 1,2\n",
    "\n",
    "df = total_cases_vs_deaths.DataFrame()\n",
    "\n",
    "df.head()"
   ]
  },
  {
   "cell_type": "code",
   "execution_count": 10,
   "id": "4ee07ee8",
   "metadata": {},
   "outputs": [
    {
     "data": {
      "image/png": "[encoded data removed]",
      "text/plain": [
       "<Figure size 720x576 with 1 Axes>"
      ]
     },
     "metadata": {
      "needs_background": "light"
     },
     "output_type": "display_data"
    }
   ],
   "source": [
    "from matplotlib import pyplot as plt\n",
    "import seaborn as sns\n",
    "\n",
    "plt.figure(figsize=(10,8))\n",
    "plot_2 = sns.barplot(x=\"total_cases\",y=\"total_deaths\", data=df).set(title = 'total_cases_vs_deaths')\n",
    "plt.show()"
   ]
  },
  {
   "cell_type": "markdown",
   "id": "39b991d0",
   "metadata": {},
   "source": [
    "Total cases vs population in a specific country"
   ]
  },
  {
   "cell_type": "code",
   "execution_count": 11,
   "id": "0848275d",
   "metadata": {},
   "outputs": [
    {
     "name": "stdout",
     "output_type": "stream",
     "text": [
      " * ibm_db_sa://mks67860:***@h764264db-9824-4b7c-82df-40d1b13897c2.bs2io90l08kqb1od8lcg.databases.appdomain.cloud:32536/BLUDB\n",
      "Done.\n"
     ]
    },
    {
     "data": {
      "text/html": [
       "<div>\n",
       "<style scoped>\n",
       "    .dataframe tbody tr th:only-of-type {\n",
       "        vertical-align: middle;\n",
       "    }\n",
       "\n",
       "    .dataframe tbody tr th {\n",
       "        vertical-align: top;\n",
       "    }\n",
       "\n",
       "    .dataframe thead th {\n",
       "        text-align: right;\n",
       "    }\n",
       "</style>\n",
       "<table border=\"1\" class=\"dataframe\">\n",
       "  <thead>\n",
       "    <tr style=\"text-align: right;\">\n",
       "      <th></th>\n",
       "      <th>location</th>\n",
       "      <th>DATE</th>\n",
       "      <th>total_cases</th>\n",
       "      <th>population</th>\n",
       "      <th>infectedpercentage</th>\n",
       "    </tr>\n",
       "  </thead>\n",
       "  <tbody>\n",
       "    <tr>\n",
       "      <th>0</th>\n",
       "      <td>Albania</td>\n",
       "      <td>2020-02-25</td>\n",
       "      <td>NaN</td>\n",
       "      <td>2872934</td>\n",
       "      <td>None</td>\n",
       "    </tr>\n",
       "    <tr>\n",
       "      <th>1</th>\n",
       "      <td>Albania</td>\n",
       "      <td>2020-02-26</td>\n",
       "      <td>NaN</td>\n",
       "      <td>2872934</td>\n",
       "      <td>None</td>\n",
       "    </tr>\n",
       "    <tr>\n",
       "      <th>2</th>\n",
       "      <td>Albania</td>\n",
       "      <td>2020-02-27</td>\n",
       "      <td>NaN</td>\n",
       "      <td>2872934</td>\n",
       "      <td>None</td>\n",
       "    </tr>\n",
       "    <tr>\n",
       "      <th>3</th>\n",
       "      <td>Albania</td>\n",
       "      <td>2020-02-28</td>\n",
       "      <td>NaN</td>\n",
       "      <td>2872934</td>\n",
       "      <td>None</td>\n",
       "    </tr>\n",
       "    <tr>\n",
       "      <th>4</th>\n",
       "      <td>Albania</td>\n",
       "      <td>2020-02-29</td>\n",
       "      <td>NaN</td>\n",
       "      <td>2872934</td>\n",
       "      <td>None</td>\n",
       "    </tr>\n",
       "  </tbody>\n",
       "</table>\n",
       "</div>"
      ],
      "text/plain": [
       "  location        DATE  total_cases  population infectedpercentage\n",
       "0  Albania  2020-02-25          NaN     2872934               None\n",
       "1  Albania  2020-02-26          NaN     2872934               None\n",
       "2  Albania  2020-02-27          NaN     2872934               None\n",
       "3  Albania  2020-02-28          NaN     2872934               None\n",
       "4  Albania  2020-02-29          NaN     2872934               None"
      ]
     },
     "execution_count": 11,
     "metadata": {},
     "output_type": "execute_result"
    }
   ],
   "source": [
    "total_cases_vs_population = %sql Select Location, date, total_cases, population, (total_cases * 1.0 /population * 1.0) * 100 as InfectedPercentage From COVIDDEATHS where location like 'Albania'order by 1,2\n",
    "\n",
    "total_cases_vs_population = total_cases_vs_population.DataFrame()\n",
    "\n",
    "total_cases_vs_population.head()"
   ]
  },
  {
   "cell_type": "code",
   "execution_count": 12,
   "id": "3e6490c8",
   "metadata": {},
   "outputs": [
    {
     "data": {
      "image/png": "[encoded data removed]",
      "text/plain": [
       "<Figure size 432x288 with 1 Axes>"
      ]
     },
     "metadata": {
      "needs_background": "light"
     },
     "output_type": "display_data"
    }
   ],
   "source": [
    "plot = sns.lineplot(x=\"DATE\",y=\"infectedpercentage\", data=total_cases_vs_population)\n",
    "\n",
    "my_xticks = ['2020-02-25', '2022-04-05']\n",
    "plt.xticks([my_xticks[-1], my_xticks[0]], visible=True, rotation=\"horizontal\")\n",
    "plot.invert_yaxis()\n",
    "plot.set(title='Infected percentage during time for Albania')\n",
    "#sns.set(rc={'figure.figsize':(5.7,5.27)})\n",
    "plt.show()"
   ]
  },
  {
   "cell_type": "markdown",
   "id": "1e2cbb6c",
   "metadata": {},
   "source": [
    "Countries with highest infections rates"
   ]
  },
  {
   "cell_type": "code",
   "execution_count": 13,
   "id": "c7ae99ef",
   "metadata": {},
   "outputs": [
    {
     "name": "stdout",
     "output_type": "stream",
     "text": [
      " * ibm_db_sa://mks67860:***@h764264db-9824-4b7c-82df-40d1b13897c2.bs2io90l08kqb1od8lcg.databases.appdomain.cloud:32536/BLUDB\n",
      "Done.\n"
     ]
    },
    {
     "data": {
      "text/html": [
       "<div>\n",
       "<style scoped>\n",
       "    .dataframe tbody tr th:only-of-type {\n",
       "        vertical-align: middle;\n",
       "    }\n",
       "\n",
       "    .dataframe tbody tr th {\n",
       "        vertical-align: top;\n",
       "    }\n",
       "\n",
       "    .dataframe thead th {\n",
       "        text-align: right;\n",
       "    }\n",
       "</style>\n",
       "<table border=\"1\" class=\"dataframe\">\n",
       "  <thead>\n",
       "    <tr style=\"text-align: right;\">\n",
       "      <th></th>\n",
       "      <th>location</th>\n",
       "      <th>highestinfectcount</th>\n",
       "      <th>population</th>\n",
       "      <th>infectedpercentage</th>\n",
       "    </tr>\n",
       "  </thead>\n",
       "  <tbody>\n",
       "    <tr>\n",
       "      <th>15</th>\n",
       "      <td>Faeroe Islands</td>\n",
       "      <td>34658.0</td>\n",
       "      <td>49053.0</td>\n",
       "      <td>70.65419036552300572000</td>\n",
       "    </tr>\n",
       "    <tr>\n",
       "      <th>16</th>\n",
       "      <td>Denmark</td>\n",
       "      <td>3072334.0</td>\n",
       "      <td>5813302.0</td>\n",
       "      <td>52.85006696710406581000</td>\n",
       "    </tr>\n",
       "    <tr>\n",
       "      <th>17</th>\n",
       "      <td>Andorra</td>\n",
       "      <td>40024.0</td>\n",
       "      <td>77354.0</td>\n",
       "      <td>51.74134498539183494000</td>\n",
       "    </tr>\n",
       "    <tr>\n",
       "      <th>18</th>\n",
       "      <td>Gibraltar</td>\n",
       "      <td>17120.0</td>\n",
       "      <td>33691.0</td>\n",
       "      <td>50.81475765041108901000</td>\n",
       "    </tr>\n",
       "    <tr>\n",
       "      <th>19</th>\n",
       "      <td>Cyprus</td>\n",
       "      <td>447161.0</td>\n",
       "      <td>896005.0</td>\n",
       "      <td>49.90608311337548339000</td>\n",
       "    </tr>\n",
       "    <tr>\n",
       "      <th>20</th>\n",
       "      <td>Iceland</td>\n",
       "      <td>182633.0</td>\n",
       "      <td>368792.0</td>\n",
       "      <td>49.52195275385583201000</td>\n",
       "    </tr>\n",
       "    <tr>\n",
       "      <th>21</th>\n",
       "      <td>Slovenia</td>\n",
       "      <td>978134.0</td>\n",
       "      <td>2078723.0</td>\n",
       "      <td>47.05456186322083317000</td>\n",
       "    </tr>\n",
       "    <tr>\n",
       "      <th>22</th>\n",
       "      <td>Netherlands</td>\n",
       "      <td>8029012.0</td>\n",
       "      <td>17173094.0</td>\n",
       "      <td>46.75343883868567888000</td>\n",
       "    </tr>\n",
       "    <tr>\n",
       "      <th>23</th>\n",
       "      <td>Slovakia</td>\n",
       "      <td>2468812.0</td>\n",
       "      <td>5449270.0</td>\n",
       "      <td>45.30537117815780829000</td>\n",
       "    </tr>\n",
       "    <tr>\n",
       "      <th>24</th>\n",
       "      <td>San Marino</td>\n",
       "      <td>15345.0</td>\n",
       "      <td>34010.0</td>\n",
       "      <td>45.11908262275801234000</td>\n",
       "    </tr>\n",
       "  </tbody>\n",
       "</table>\n",
       "</div>"
      ],
      "text/plain": [
       "          location  highestinfectcount  population       infectedpercentage\n",
       "15  Faeroe Islands             34658.0     49053.0  70.65419036552300572000\n",
       "16         Denmark           3072334.0   5813302.0  52.85006696710406581000\n",
       "17         Andorra             40024.0     77354.0  51.74134498539183494000\n",
       "18       Gibraltar             17120.0     33691.0  50.81475765041108901000\n",
       "19          Cyprus            447161.0    896005.0  49.90608311337548339000\n",
       "20         Iceland            182633.0    368792.0  49.52195275385583201000\n",
       "21        Slovenia            978134.0   2078723.0  47.05456186322083317000\n",
       "22     Netherlands           8029012.0  17173094.0  46.75343883868567888000\n",
       "23        Slovakia           2468812.0   5449270.0  45.30537117815780829000\n",
       "24      San Marino             15345.0     34010.0  45.11908262275801234000"
      ]
     },
     "execution_count": 13,
     "metadata": {},
     "output_type": "execute_result"
    }
   ],
   "source": [
    "highest_infections = %sql Select Location, MAX(total_cases) as HighestInfectCount, population, MAX((total_cases * 1.0 /population * 1.0) * 100) as InfectedPercentage From COVIDDEATHS Group by Location, population order by InfectedPercentage desc;\n",
    "\n",
    "highest_infections = highest_infections.DataFrame()\n",
    "\n",
    "top_ten = (highest_infections.query('infectedpercentage > 0')\n",
    "          .head(10))\n",
    "top_ten"
   ]
  },
  {
   "cell_type": "code",
   "execution_count": 14,
   "id": "3072b15a",
   "metadata": {},
   "outputs": [
    {
     "data": {
      "image/png": "[encoded data removed]",
      "text/plain": [
       "<Figure size 432x288 with 1 Axes>"
      ]
     },
     "metadata": {
      "needs_background": "light"
     },
     "output_type": "display_data"
    }
   ],
   "source": [
    "plot = sns.barplot(x='infectedpercentage',y='location',orient='h',data=top_ten)\n",
    "plot.set(title='Top 10 countries with highest infections rates');"
   ]
  },
  {
   "cell_type": "markdown",
   "id": "a153fb85",
   "metadata": {},
   "source": [
    "Countries with highes death count"
   ]
  },
  {
   "cell_type": "code",
   "execution_count": 21,
   "id": "7450fd71",
   "metadata": {},
   "outputs": [
    {
     "name": "stdout",
     "output_type": "stream",
     "text": [
      " * ibm_db_sa://mks67860:***@h764264db-9824-4b7c-82df-40d1b13897c2.bs2io90l08kqb1od8lcg.databases.appdomain.cloud:32536/BLUDB\n",
      "Done.\n"
     ]
    },
    {
     "data": {
      "text/html": [
       "<div>\n",
       "<style scoped>\n",
       "    .dataframe tbody tr th:only-of-type {\n",
       "        vertical-align: middle;\n",
       "    }\n",
       "\n",
       "    .dataframe tbody tr th {\n",
       "        vertical-align: top;\n",
       "    }\n",
       "\n",
       "    .dataframe thead th {\n",
       "        text-align: right;\n",
       "    }\n",
       "</style>\n",
       "<table border=\"1\" class=\"dataframe\">\n",
       "  <thead>\n",
       "    <tr style=\"text-align: right;\">\n",
       "      <th></th>\n",
       "      <th>location</th>\n",
       "      <th>totaldeaths</th>\n",
       "    </tr>\n",
       "  </thead>\n",
       "  <tbody>\n",
       "    <tr>\n",
       "      <th>7</th>\n",
       "      <td>United States</td>\n",
       "      <td>982576.0</td>\n",
       "    </tr>\n",
       "    <tr>\n",
       "      <th>8</th>\n",
       "      <td>Brazil</td>\n",
       "      <td>660786.0</td>\n",
       "    </tr>\n",
       "    <tr>\n",
       "      <th>9</th>\n",
       "      <td>India</td>\n",
       "      <td>521487.0</td>\n",
       "    </tr>\n",
       "    <tr>\n",
       "      <th>10</th>\n",
       "      <td>Russia</td>\n",
       "      <td>362890.0</td>\n",
       "    </tr>\n",
       "    <tr>\n",
       "      <th>11</th>\n",
       "      <td>Mexico</td>\n",
       "      <td>323318.0</td>\n",
       "    </tr>\n",
       "    <tr>\n",
       "      <th>12</th>\n",
       "      <td>Peru</td>\n",
       "      <td>212372.0</td>\n",
       "    </tr>\n",
       "    <tr>\n",
       "      <th>13</th>\n",
       "      <td>United Kingdom</td>\n",
       "      <td>166304.0</td>\n",
       "    </tr>\n",
       "    <tr>\n",
       "      <th>14</th>\n",
       "      <td>Italy</td>\n",
       "      <td>160103.0</td>\n",
       "    </tr>\n",
       "    <tr>\n",
       "      <th>15</th>\n",
       "      <td>Indonesia</td>\n",
       "      <td>155421.0</td>\n",
       "    </tr>\n",
       "    <tr>\n",
       "      <th>16</th>\n",
       "      <td>France</td>\n",
       "      <td>142864.0</td>\n",
       "    </tr>\n",
       "  </tbody>\n",
       "</table>\n",
       "</div>"
      ],
      "text/plain": [
       "          location  totaldeaths\n",
       "7    United States     982576.0\n",
       "8           Brazil     660786.0\n",
       "9            India     521487.0\n",
       "10          Russia     362890.0\n",
       "11          Mexico     323318.0\n",
       "12            Peru     212372.0\n",
       "13  United Kingdom     166304.0\n",
       "14           Italy     160103.0\n",
       "15       Indonesia     155421.0\n",
       "16          France     142864.0"
      ]
     },
     "execution_count": 21,
     "metadata": {},
     "output_type": "execute_result"
    }
   ],
   "source": [
    "highest_death_count = %sql Select Location, MAX(total_deaths) as TotalDeaths From COVIDDEATHS where continent is not null and total_cases is not null Group by Location order by TotalDeaths desc;\n",
    "\n",
    "highest_death_count = highest_death_count.DataFrame()\n",
    "\n",
    "top_ten_deaths = highest_death_count = highest_death_count.query('totaldeaths > 0').head(10)\n",
    "\n",
    "top_ten_deaths"
   ]
  },
  {
   "cell_type": "code",
   "execution_count": 26,
   "id": "99d63804",
   "metadata": {},
   "outputs": [
    {
     "data": {
      "image/png": "[encoded data removed]",
      "text/plain": [
       "<Figure size 432x288 with 1 Axes>"
      ]
     },
     "metadata": {
      "needs_background": "light"
     },
     "output_type": "display_data"
    }
   ],
   "source": [
    "plot = sns.barplot(x='totaldeaths',y='location',orient='h',data=top_ten_deaths)\n",
    "plot.set(title='Top 10 countries with highest death counts');"
   ]
  },
  {
   "cell_type": "markdown",
   "id": "f133d897",
   "metadata": {},
   "source": [
    "Total deaths by continent"
   ]
  },
  {
   "cell_type": "code",
   "execution_count": 37,
   "id": "2d439f57",
   "metadata": {},
   "outputs": [
    {
     "name": "stdout",
     "output_type": "stream",
     "text": [
      " * ibm_db_sa://mks67860:***@h764264db-9824-4b7c-82df-40d1b13897c2.bs2io90l08kqb1od8lcg.databases.appdomain.cloud:32536/BLUDB\n",
      "Done.\n"
     ]
    },
    {
     "data": {
      "text/html": [
       "<div>\n",
       "<style scoped>\n",
       "    .dataframe tbody tr th:only-of-type {\n",
       "        vertical-align: middle;\n",
       "    }\n",
       "\n",
       "    .dataframe tbody tr th {\n",
       "        vertical-align: top;\n",
       "    }\n",
       "\n",
       "    .dataframe thead th {\n",
       "        text-align: right;\n",
       "    }\n",
       "</style>\n",
       "<table border=\"1\" class=\"dataframe\">\n",
       "  <thead>\n",
       "    <tr style=\"text-align: right;\">\n",
       "      <th></th>\n",
       "      <th>continent</th>\n",
       "      <th>totaldeaths</th>\n",
       "    </tr>\n",
       "  </thead>\n",
       "  <tbody>\n",
       "    <tr>\n",
       "      <th>0</th>\n",
       "      <td>North America</td>\n",
       "      <td>982576</td>\n",
       "    </tr>\n",
       "    <tr>\n",
       "      <th>1</th>\n",
       "      <td>South America</td>\n",
       "      <td>660786</td>\n",
       "    </tr>\n",
       "    <tr>\n",
       "      <th>2</th>\n",
       "      <td>Asia</td>\n",
       "      <td>521487</td>\n",
       "    </tr>\n",
       "    <tr>\n",
       "      <th>3</th>\n",
       "      <td>Europe</td>\n",
       "      <td>362890</td>\n",
       "    </tr>\n",
       "    <tr>\n",
       "      <th>4</th>\n",
       "      <td>Africa</td>\n",
       "      <td>100067</td>\n",
       "    </tr>\n",
       "    <tr>\n",
       "      <th>5</th>\n",
       "      <td>Oceania</td>\n",
       "      <td>6462</td>\n",
       "    </tr>\n",
       "  </tbody>\n",
       "</table>\n",
       "</div>"
      ],
      "text/plain": [
       "       continent  totaldeaths\n",
       "0  North America       982576\n",
       "1  South America       660786\n",
       "2           Asia       521487\n",
       "3         Europe       362890\n",
       "4         Africa       100067\n",
       "5        Oceania         6462"
      ]
     },
     "execution_count": 37,
     "metadata": {},
     "output_type": "execute_result"
    }
   ],
   "source": [
    "by_continent = %sql Select continent, MAX(total_deaths) as TotalDeaths From COVIDDEATHS where continent is not null Group by continent order by TotalDeaths desc;\n",
    "by_continent = by_continent.DataFrame()\n",
    "by_continent"
   ]
  },
  {
   "cell_type": "code",
   "execution_count": 45,
   "id": "9e1cc4c1",
   "metadata": {},
   "outputs": [
    {
     "data": {
      "image/png": "[encoded data removed]",
      "text/plain": [
       "<Figure size 432x288 with 1 Axes>"
      ]
     },
     "metadata": {},
     "output_type": "display_data"
    }
   ],
   "source": [
    "labels = by_continent['continent'].tolist()\n",
    "data = by_continent['totaldeaths'].tolist()\n",
    "plt.pie(data, labels = labels)\n",
    "plt.show()"
   ]
  },
  {
   "cell_type": "markdown",
   "id": "a3f379d1",
   "metadata": {},
   "source": [
    "Global numbers for each date"
   ]
  },
  {
   "cell_type": "code",
   "execution_count": 48,
   "id": "6d0b3c70",
   "metadata": {},
   "outputs": [
    {
     "name": "stdout",
     "output_type": "stream",
     "text": [
      " * ibm_db_sa://mks67860:***@h764264db-9824-4b7c-82df-40d1b13897c2.bs2io90l08kqb1od8lcg.databases.appdomain.cloud:32536/BLUDB\n",
      "Done.\n"
     ]
    },
    {
     "data": {
      "text/html": [
       "<div>\n",
       "<style scoped>\n",
       "    .dataframe tbody tr th:only-of-type {\n",
       "        vertical-align: middle;\n",
       "    }\n",
       "\n",
       "    .dataframe tbody tr th {\n",
       "        vertical-align: top;\n",
       "    }\n",
       "\n",
       "    .dataframe thead th {\n",
       "        text-align: right;\n",
       "    }\n",
       "</style>\n",
       "<table border=\"1\" class=\"dataframe\">\n",
       "  <thead>\n",
       "    <tr style=\"text-align: right;\">\n",
       "      <th></th>\n",
       "      <th>DATE</th>\n",
       "      <th>total_cases</th>\n",
       "      <th>total_deaths</th>\n",
       "      <th>deathpercentage</th>\n",
       "    </tr>\n",
       "  </thead>\n",
       "  <tbody>\n",
       "    <tr>\n",
       "      <th>22</th>\n",
       "      <td>2020-01-23</td>\n",
       "      <td>100.0</td>\n",
       "      <td>1.0</td>\n",
       "      <td>1.000000</td>\n",
       "    </tr>\n",
       "    <tr>\n",
       "      <th>23</th>\n",
       "      <td>2020-01-24</td>\n",
       "      <td>287.0</td>\n",
       "      <td>8.0</td>\n",
       "      <td>2.787400</td>\n",
       "    </tr>\n",
       "    <tr>\n",
       "      <th>24</th>\n",
       "      <td>2020-01-25</td>\n",
       "      <td>493.0</td>\n",
       "      <td>16.0</td>\n",
       "      <td>3.245400</td>\n",
       "    </tr>\n",
       "    <tr>\n",
       "      <th>25</th>\n",
       "      <td>2020-01-26</td>\n",
       "      <td>683.0</td>\n",
       "      <td>14.0</td>\n",
       "      <td>2.049700</td>\n",
       "    </tr>\n",
       "    <tr>\n",
       "      <th>26</th>\n",
       "      <td>2020-01-27</td>\n",
       "      <td>809.0</td>\n",
       "      <td>26.0</td>\n",
       "      <td>3.213800</td>\n",
       "    </tr>\n",
       "  </tbody>\n",
       "</table>\n",
       "</div>"
      ],
      "text/plain": [
       "          DATE  total_cases  total_deaths deathpercentage\n",
       "22  2020-01-23        100.0           1.0        1.000000\n",
       "23  2020-01-24        287.0           8.0        2.787400\n",
       "24  2020-01-25        493.0          16.0        3.245400\n",
       "25  2020-01-26        683.0          14.0        2.049700\n",
       "26  2020-01-27        809.0          26.0        3.213800"
      ]
     },
     "execution_count": 48,
     "metadata": {},
     "output_type": "execute_result"
    }
   ],
   "source": [
    "global_by_date = %sql Select date, SUM(new_cases) as total_cases, SUM(cast(new_deaths as int)) as total_deaths, SUM(new_deaths * 1.0)/SUM(new_cases * 1.0)*100 as DeathPercentage From COVIDDEATHS where continent is not null Group By date order by 1,2;\n",
    "\n",
    "global_by_date = global_by_date.DataFrame()\n",
    "global_by_date = global_by_date.query('total_cases > 0')\n",
    "global_by_date.head()"
   ]
  },
  {
   "cell_type": "code",
   "execution_count": 70,
   "id": "b9e7214b",
   "metadata": {},
   "outputs": [
    {
     "data": {
      "image/png": "[encoded data removed]",
      "text/plain": [
       "<Figure size 626.4x739.44 with 1 Axes>"
      ]
     },
     "metadata": {},
     "output_type": "display_data"
    }
   ],
   "source": [
    "plt.ticklabel_format(style='plain')\n",
    "sns.scatterplot(data=global_by_date, x=\"total_cases\", y=\"total_deaths\")\n",
    "sns.set(rc={'figure.figsize':(8.7,11.27)});"
   ]
  }
 ],
 "metadata": {
  "kernelspec": {
   "display_name": "Python 3 (ipykernel)",
   "language": "python",
   "name": "python3"
  },
  "language_info": {
   "codemirror_mode": {
    "name": "ipython",
    "version": 3
   },
   "file_extension": ".py",
   "mimetype": "text/x-python",
   "name": "python",
   "nbconvert_exporter": "python",
   "pygments_lexer": "ipython3",
   "version": "3.8.8"
  }
 },
 "nbformat": 4,
 "nbformat_minor": 5
}
