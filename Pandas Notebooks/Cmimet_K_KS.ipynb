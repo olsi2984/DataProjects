{
 "cells": [
  {
   "cell_type": "code",
   "execution_count": 11,
   "metadata": {},
   "outputs": [],
   "source": [
    "import pandas as pd"
   ]
  },
  {
   "cell_type": "code",
   "execution_count": 12,
   "metadata": {},
   "outputs": [],
   "source": [
    "Cmimet_K_KS = pd.read_excel(\"Cmimet_K_KS.xlsx\")"
   ]
  },
  {
   "cell_type": "code",
   "execution_count": 13,
   "metadata": {},
   "outputs": [],
   "source": [
    "Cmimet_K_KS = Cmimet_K_KS[[\"Kodi\", \"Përshkrimi\", \"Kodi 2\", \"Çmim Kosto\", \"Cmim pa TVSH ( EUR )\" ]].set_index(\"Kodi\")"
   ]
  },
  {
   "cell_type": "code",
   "execution_count": 14,
   "metadata": {},
   "outputs": [],
   "source": [
    "Cmimet_K_KS[\"Raporti\"] = Cmimet_K_KS[\"Cmim pa TVSH ( EUR )\"] / Cmimet_K_KS[\"Çmim Kosto\"]"
   ]
  },
  {
   "cell_type": "code",
   "execution_count": 15,
   "metadata": {},
   "outputs": [],
   "source": [
    "Cmimet_K_KS = Cmimet_K_KS.query('Raporti < 1.1')"
   ]
  },
  {
   "cell_type": "code",
   "execution_count": 16,
   "metadata": {
    "scrolled": true
   },
   "outputs": [
    {
     "data": {
      "text/html": [
       "<div>\n",
       "<style scoped>\n",
       "    .dataframe tbody tr th:only-of-type {\n",
       "        vertical-align: middle;\n",
       "    }\n",
       "\n",
       "    .dataframe tbody tr th {\n",
       "        vertical-align: top;\n",
       "    }\n",
       "\n",
       "    .dataframe thead th {\n",
       "        text-align: right;\n",
       "    }\n",
       "</style>\n",
       "<table border=\"1\" class=\"dataframe\">\n",
       "  <thead>\n",
       "    <tr style=\"text-align: right;\">\n",
       "      <th></th>\n",
       "      <th>Përshkrimi</th>\n",
       "      <th>Kodi 2</th>\n",
       "      <th>Çmim Kosto</th>\n",
       "      <th>Cmim pa TVSH ( EUR )</th>\n",
       "      <th>Raporti</th>\n",
       "    </tr>\n",
       "    <tr>\n",
       "      <th>Kodi</th>\n",
       "      <th></th>\n",
       "      <th></th>\n",
       "      <th></th>\n",
       "      <th></th>\n",
       "      <th></th>\n",
       "    </tr>\n",
       "  </thead>\n",
       "  <tbody>\n",
       "    <tr>\n",
       "      <th>AA</th>\n",
       "      <td>MOBILJE E ORENDI / KASE FISKALE</td>\n",
       "      <td></td>\n",
       "      <td>1064.920000</td>\n",
       "      <td>0.0</td>\n",
       "      <td>0.0</td>\n",
       "    </tr>\n",
       "    <tr>\n",
       "      <th>AA1</th>\n",
       "      <td>MOBILJE DHE ORENDI / REKLAME NDRICUESE</td>\n",
       "      <td></td>\n",
       "      <td>1206.900000</td>\n",
       "      <td>0.0</td>\n",
       "      <td>0.0</td>\n",
       "    </tr>\n",
       "    <tr>\n",
       "      <th>AA2</th>\n",
       "      <td>MOBILJE DHE ORENDI / RAFTE</td>\n",
       "      <td></td>\n",
       "      <td>649.138742</td>\n",
       "      <td>0.0</td>\n",
       "      <td>0.0</td>\n",
       "    </tr>\n",
       "    <tr>\n",
       "      <th>ACC_2181</th>\n",
       "      <td>2181 - MOBILJE DHE PAJISJE ZYRE</td>\n",
       "      <td></td>\n",
       "      <td>2515.254237</td>\n",
       "      <td>0.0</td>\n",
       "      <td>0.0</td>\n",
       "    </tr>\n",
       "  </tbody>\n",
       "</table>\n",
       "</div>"
      ],
      "text/plain": [
       "                                      Përshkrimi Kodi 2   Çmim Kosto  \\\n",
       "Kodi                                                                   \n",
       "AA               MOBILJE E ORENDI / KASE FISKALE         1064.920000   \n",
       "AA1       MOBILJE DHE ORENDI / REKLAME NDRICUESE         1206.900000   \n",
       "AA2                   MOBILJE DHE ORENDI / RAFTE          649.138742   \n",
       "ACC_2181         2181 - MOBILJE DHE PAJISJE ZYRE         2515.254237   \n",
       "\n",
       "          Cmim pa TVSH ( EUR )  Raporti  \n",
       "Kodi                                     \n",
       "AA                         0.0      0.0  \n",
       "AA1                        0.0      0.0  \n",
       "AA2                        0.0      0.0  \n",
       "ACC_2181                   0.0      0.0  "
      ]
     },
     "execution_count": 16,
     "metadata": {},
     "output_type": "execute_result"
    }
   ],
   "source": [
    "Cmimet_K_KS"
   ]
  }
 ],
 "metadata": {
  "kernelspec": {
   "display_name": "Python 3",
   "language": "python",
   "name": "python3"
  },
  "language_info": {
   "codemirror_mode": {
    "name": "ipython",
    "version": 3
   },
   "file_extension": ".py",
   "mimetype": "text/x-python",
   "name": "python",
   "nbconvert_exporter": "python",
   "pygments_lexer": "ipython3",
   "version": "3.7.0"
  }
 },
 "nbformat": 4,
 "nbformat_minor": 2
}
